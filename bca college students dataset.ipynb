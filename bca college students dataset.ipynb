{
 "cells": [
  {
   "cell_type": "code",
   "execution_count": 1,
   "id": "bd5db0ce",
   "metadata": {},
   "outputs": [
    {
     "name": "stdout",
     "output_type": "stream",
     "text": [
      "BCA student dataset created and saved as 'bca_student_data.csv'.\n"
     ]
    }
   ],
   "source": [
    "import pandas as pd\n",
    "import random\n",
    "\n",
    "# Create empty lists for each column\n",
    "names = []\n",
    "genders = []\n",
    "semesters = []\n",
    "programming_scores = []\n",
    "data_structures_scores = []\n",
    "web_dev_scores = []\n",
    "dbms_scores = []\n",
    "networking_scores = []\n",
    "placement_chances = []\n",
    "\n",
    "# Generate data for 1000 BCA students\n",
    "for i in range(1, 1001):\n",
    "    student_name = f\"student{i:03}\"\n",
    "    gender = random.choice([\"Male\", \"Female\"])\n",
    "    semester = random.randint(1, 6)  # Assuming a 3-year BCA program with 6 semesters\n",
    "    programming_score = random.randint(40, 100)\n",
    "    data_structures_score = random.randint(40, 100)\n",
    "    web_dev_score = random.randint(40, 100)\n",
    "    dbms_score = random.randint(40, 100)\n",
    "    networking_score = random.randint(40, 100)\n",
    "    \n",
    "    # Calculate percentage\n",
    "    total_marks = programming_score + data_structures_score + web_dev_score + dbms_score + networking_score\n",
    "    percentage = (total_marks / 500) * 100\n",
    "    \n",
    "    # Calculate placement chances (random percentage between 0 and 100)\n",
    "    placement_chance = random.uniform(0, 100)\n",
    "    \n",
    "    # Append data to lists\n",
    "    names.append(student_name)\n",
    "    genders.append(gender)\n",
    "    semesters.append(semester)\n",
    "    programming_scores.append(programming_score)\n",
    "    data_structures_scores.append(data_structures_score)\n",
    "    web_dev_scores.append(web_dev_score)\n",
    "    dbms_scores.append(dbms_score)\n",
    "    networking_scores.append(networking_score)\n",
    "    placement_chances.append(placement_chance)\n",
    "\n",
    "# Create a DataFrame\n",
    "data = {\n",
    "    'Name': names,\n",
    "    'Gender': genders,\n",
    "    'Semester': semesters,\n",
    "    'Programming': programming_scores,\n",
    "    'Data Structures': data_structures_scores,\n",
    "    'Web Development': web_dev_scores,\n",
    "    'DBMS': dbms_scores,\n",
    "    'Networking': networking_scores,\n",
    "    'Placement Chances (%)': placement_chances\n",
    "}\n",
    "\n",
    "df = pd.DataFrame(data)\n",
    "\n",
    "# Save to CSV\n",
    "df.to_csv('bca_student_data.csv', index=False)\n",
    "\n",
    "print(\"BCA student dataset created and saved as 'bca_student_data.csv'.\")"
   ]
  },
  {
   "cell_type": "code",
   "execution_count": null,
   "id": "e4b9e044",
   "metadata": {},
   "outputs": [],
   "source": []
  }
 ],
 "metadata": {
  "kernelspec": {
   "display_name": "Python 3 (ipykernel)",
   "language": "python",
   "name": "python3"
  },
  "language_info": {
   "codemirror_mode": {
    "name": "ipython",
    "version": 3
   },
   "file_extension": ".py",
   "mimetype": "text/x-python",
   "name": "python",
   "nbconvert_exporter": "python",
   "pygments_lexer": "ipython3",
   "version": "3.11.4"
  }
 },
 "nbformat": 4,
 "nbformat_minor": 5
}
