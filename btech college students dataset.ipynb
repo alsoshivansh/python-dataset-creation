{
 "cells": [
  {
   "cell_type": "code",
   "execution_count": 1,
   "id": "4d8f8dac",
   "metadata": {},
   "outputs": [
    {
     "name": "stdout",
     "output_type": "stream",
     "text": [
      "BTech student dataset created and saved as 'btech_student_data.csv'.\n"
     ]
    }
   ],
   "source": [
    "import pandas as pd\n",
    "import random\n",
    "\n",
    "# Create empty lists for each column\n",
    "names = []\n",
    "genders = []\n",
    "branches = []\n",
    "physics_scores = []\n",
    "chemistry_scores = []\n",
    "math_scores = []\n",
    "programming_scores = []\n",
    "electronics_scores = []\n",
    "placement_chances = []\n",
    "\n",
    "# Generate data for 1000 BTech students\n",
    "for i in range(1, 1001):\n",
    "    student_name = f\"student{i:03}\"\n",
    "    gender = random.choice([\"Male\", \"Female\"])\n",
    "    branch = random.choice([\"Computer Science\", \"Electrical\", \"Mechanical\", \"Civil\", \"Chemical\"])\n",
    "    physics_score = random.randint(40, 100)\n",
    "    chemistry_score = random.randint(40, 100)\n",
    "    math_score = random.randint(40, 100)\n",
    "    programming_score = random.randint(40, 100)\n",
    "    electronics_score = random.randint(40, 100)\n",
    "    \n",
    "    # Calculate percentage\n",
    "    total_marks = physics_score + chemistry_score + math_score + programming_score + electronics_score\n",
    "    percentage = (total_marks / 500) * 100\n",
    "    \n",
    "    # Calculate placement chances (random percentage between 0 and 100)\n",
    "    placement_chance = random.uniform(0, 100)\n",
    "    \n",
    "    # Append data to lists\n",
    "    names.append(student_name)\n",
    "    genders.append(gender)\n",
    "    branches.append(branch)\n",
    "    physics_scores.append(physics_score)\n",
    "    chemistry_scores.append(chemistry_score)\n",
    "    math_scores.append(math_score)\n",
    "    programming_scores.append(programming_score)\n",
    "    electronics_scores.append(electronics_score)\n",
    "    placement_chances.append(placement_chance)\n",
    "\n",
    "# Create a DataFrame\n",
    "data = {\n",
    "    'Name': names,\n",
    "    'Gender': genders,\n",
    "    'Branch': branches,\n",
    "    'Physics': physics_scores,\n",
    "    'Chemistry': chemistry_scores,\n",
    "    'Math': math_scores,\n",
    "    'Programming': programming_scores,\n",
    "    'Electronics': electronics_scores,\n",
    "    'Placement Chances (%)': placement_chances\n",
    "}\n",
    "\n",
    "df = pd.DataFrame(data)\n",
    "\n",
    "# Save to CSV\n",
    "df.to_csv('btech_student_data.csv', index=False)\n",
    "\n",
    "print(\"BTech student dataset created and saved as 'btech_student_data.csv'.\")"
   ]
  },
  {
   "cell_type": "code",
   "execution_count": null,
   "id": "3cc26324",
   "metadata": {},
   "outputs": [],
   "source": []
  }
 ],
 "metadata": {
  "kernelspec": {
   "display_name": "Python 3 (ipykernel)",
   "language": "python",
   "name": "python3"
  },
  "language_info": {
   "codemirror_mode": {
    "name": "ipython",
    "version": 3
   },
   "file_extension": ".py",
   "mimetype": "text/x-python",
   "name": "python",
   "nbconvert_exporter": "python",
   "pygments_lexer": "ipython3",
   "version": "3.11.4"
  }
 },
 "nbformat": 4,
 "nbformat_minor": 5
}
